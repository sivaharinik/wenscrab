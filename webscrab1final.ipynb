{
  "nbformat": 4,
  "nbformat_minor": 0,
  "metadata": {
    "colab": {
      "provenance": [],
      "authorship_tag": "ABX9TyPXQxKg+Z/Pz/i3Jy625izn",
      "include_colab_link": true
    },
    "kernelspec": {
      "name": "python3",
      "display_name": "Python 3"
    },
    "language_info": {
      "name": "python"
    }
  },
  "cells": [
    {
      "cell_type": "markdown",
      "metadata": {
        "id": "view-in-github",
        "colab_type": "text"
      },
      "source": [
        "<a href=\"https://colab.research.google.com/github/sivaharinik/wenscrab/blob/main/webscrab1final.ipynb\" target=\"_parent\"><img src=\"https://colab.research.google.com/assets/colab-badge.svg\" alt=\"Open In Colab\"/></a>"
      ]
    },
    {
      "cell_type": "code",
      "execution_count": null,
      "metadata": {
        "id": "5sBj4vtGSaXX"
      },
      "outputs": [],
      "source": [
        "import pandas as pd\n",
        "from bs4 import BeautifulSoup\n",
        "import requests\n",
        "\n",
        "data = []\n",
        "\n",
        "for page_number in range(1,7):  # Assuming there are 10 pages (you can adjust as needed)\n",
        "    url = f\"https://www.moderndatastack.xyz/companies?page={page_number}\"\n",
        "    r = requests.get(url)\n",
        "\n",
        "    if r.status_code == 200:\n",
        "        soup = BeautifulSoup(r.text, \"html.parser\")\n",
        "        companies = soup.findAll(\"a\", {\"class\": \"mds-text-primary text-nowrap text-decoration-underline mds-fw-md\"})\n",
        "\n",
        "        for company in companies:\n",
        "            company_name = company.text\n",
        "            company_name = company_name[:int(len(company_name) / 2)]\n",
        "            data.append({\n",
        "                'company_name': company_name,\n",
        "                'company_link': company['href']\n",
        "            })\n",
        "    else:\n",
        "        print(f\"Failed to fetch data from page {page_number}\")\n",
        "\n",
        "df = pd.DataFrame(data)\n",
        "df.to_csv('companies.csv', index=False)"
      ]
    },
    {
      "cell_type": "code",
      "source": [
        "import pandas as pd\n",
        "import requests\n",
        "from bs4 import BeautifulSoup\n",
        "\n",
        "data = []\n",
        "\n",
        "for page_number in range(1, 7):\n",
        "    url = f\"https://www.moderndatastack.xyz/companies?page={page_number}\"\n",
        "    r = requests.get(url)\n",
        "\n",
        "    if r.status_code == 200:\n",
        "        soup = BeautifulSoup(r.text, \"html.parser\")\n",
        "        companies = soup.findAll(\"a\", {\"class\": \"mds-text-primary text-nowrap text-decoration-underline mds-fw-md\"})\n",
        "\n",
        "        for company in companies:\n",
        "            company_name = company.text\n",
        "            company_name = company_name[:int(len(company_name) / 2)]\n",
        "            data.append({'company_name': company_name, 'company_link': company['href']})\n",
        "    else:\n",
        "        print(f\"Failed to fetch data from page {page_number}\")\n",
        "\n",
        "# Creating a DataFrame and saving to both CSV and Excel\n",
        "df = pd.DataFrame(data)\n",
        "df.to_csv('companies.csv', index=False)\n",
        "df.to_excel('companies.xlsx', index=False)\n"
      ],
      "metadata": {
        "id": "Zy5L_m0WWw5N"
      },
      "execution_count": null,
      "outputs": []
    }
  ]
}